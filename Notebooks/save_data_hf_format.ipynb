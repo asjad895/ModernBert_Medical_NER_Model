{
 "cells": [
  {
   "cell_type": "markdown",
   "metadata": {},
   "source": [
    "### Importing Necessary Libraries"
   ]
  },
  {
   "cell_type": "code",
   "execution_count": 1,
   "metadata": {},
   "outputs": [],
   "source": [
    "import pandas as pd\n",
    "import glob\n",
    "import os \n",
    "import json"
   ]
  },
  {
   "cell_type": "markdown",
   "metadata": {},
   "source": [
    "### Loading the generated CSV files and combining into a single DataFrame"
   ]
  },
  {
   "cell_type": "code",
   "execution_count": 3,
   "metadata": {},
   "outputs": [],
   "source": [
    "def combine_csv_files_concise(directory='/home/md/Documents/ner_train/ner_datasets'):\n",
    "    files = glob.glob(os.path.join(directory, 'ner_dataset_raw_batch_*.csv'))\n",
    "    combined_df = pd.concat([pd.read_csv(f) for f in files], ignore_index=True)\n",
    "    return combined_df\n",
    "\n",
    "df = combine_csv_files_concise()"
   ]
  },
  {
   "cell_type": "code",
   "execution_count": 4,
   "metadata": {},
   "outputs": [
    {
     "data": {
      "text/html": [
       "<div>\n",
       "<style scoped>\n",
       "    .dataframe tbody tr th:only-of-type {\n",
       "        vertical-align: middle;\n",
       "    }\n",
       "\n",
       "    .dataframe tbody tr th {\n",
       "        vertical-align: top;\n",
       "    }\n",
       "\n",
       "    .dataframe thead th {\n",
       "        text-align: right;\n",
       "    }\n",
       "</style>\n",
       "<table border=\"1\" class=\"dataframe\">\n",
       "  <thead>\n",
       "    <tr style=\"text-align: right;\">\n",
       "      <th></th>\n",
       "      <th>text</th>\n",
       "      <th>tokens</th>\n",
       "      <th>ner_tags</th>\n",
       "    </tr>\n",
       "  </thead>\n",
       "  <tbody>\n",
       "    <tr>\n",
       "      <th>0</th>\n",
       "      <td>Patient ko तेज बुखार (high fever) aur सीने में...</td>\n",
       "      <td>['Patient', 'ko', 'तेज', 'बुखार', '(high', 'fe...</td>\n",
       "      <td>['O', 'O', 'B-SYMPTOM', 'I-SYMPTOM', 'I-SYMPTO...</td>\n",
       "    </tr>\n",
       "    <tr>\n",
       "      <th>1</th>\n",
       "      <td>Patient ko तेज़ बुखार tha, aur usse सीने में द...</td>\n",
       "      <td>['Patient', 'ko', 'तेज़', 'बुखार', 'tha', 'aur...</td>\n",
       "      <td>['O', 'O', 'B-SYMPTOM', 'I-SYMPTOM', 'O', 'O',...</td>\n",
       "    </tr>\n",
       "    <tr>\n",
       "      <th>2</th>\n",
       "      <td>Patient ke blood reports mein high cholesterol...</td>\n",
       "      <td>['Patient', 'ke', 'blood', 'reports', 'mein', ...</td>\n",
       "      <td>['O', 'O', 'B-TEST', 'I-TEST', 'O', 'B-CONDITI...</td>\n",
       "    </tr>\n",
       "    <tr>\n",
       "      <th>3</th>\n",
       "      <td>Patient के ख़ून में sugar level बहुत ज़्यादा थ...</td>\n",
       "      <td>['Patient', 'के', 'ख़ून', 'में', 'sugar', 'lev...</td>\n",
       "      <td>['O', 'O', 'O', 'O', 'B-SYMPTOM', 'I-SYMPTOM',...</td>\n",
       "    </tr>\n",
       "    <tr>\n",
       "      <th>4</th>\n",
       "      <td>Patient ke saath continuous chest pain hai, au...</td>\n",
       "      <td>['Patient', 'ke', 'saath', 'continuous', 'ches...</td>\n",
       "      <td>['O', 'O', 'O', 'B-SYMPTOM', 'I-SYMPTOM', 'I-S...</td>\n",
       "    </tr>\n",
       "    <tr>\n",
       "      <th>...</th>\n",
       "      <td>...</td>\n",
       "      <td>...</td>\n",
       "      <td>...</td>\n",
       "    </tr>\n",
       "    <tr>\n",
       "      <th>94</th>\n",
       "      <td>Patient को तेज़ बुखार और सिर दर्द के साथ अस्पत...</td>\n",
       "      <td>['Patient', 'को', 'तेज़', 'बुखार', 'और', 'सिर'...</td>\n",
       "      <td>['O', 'O', 'B-SYMPTOM', 'I-SYMPTOM', 'O', 'B-S...</td>\n",
       "    </tr>\n",
       "    <tr>\n",
       "      <th>95</th>\n",
       "      <td>एक 45 वर्षीय रोगी को तेज़ सिर दर्द और बुखार के...</td>\n",
       "      <td>['एक', '45', 'वर्षीय', 'रोगी', 'को', 'तेज़', '...</td>\n",
       "      <td>['O', 'O', 'O', 'O', 'O', 'B-SYMPTOM', 'I-SYMP...</td>\n",
       "    </tr>\n",
       "    <tr>\n",
       "      <th>96</th>\n",
       "      <td>रोगी को खून बहुत तेज़ बह रहा था, इसलिए उसे तत्...</td>\n",
       "      <td>['रोगी', 'को', 'खून', 'बहुत', 'तेज़', 'बह', 'र...</td>\n",
       "      <td>['O', 'O', 'B-SYMPTOM', 'O', 'I-SYMPTOM', 'I-S...</td>\n",
       "    </tr>\n",
       "    <tr>\n",
       "      <th>97</th>\n",
       "      <td>The patient with हृदय रोग was prescribed 25mg ...</td>\n",
       "      <td>['The', 'patient', 'with', 'हृदय', 'रोग', 'was...</td>\n",
       "      <td>['O', 'O', 'O', 'B-CONDITION', 'I-CONDITION', ...</td>\n",
       "    </tr>\n",
       "    <tr>\n",
       "      <th>98</th>\n",
       "      <td>The patient with stage 2 मधुमेह was prescribed...</td>\n",
       "      <td>['The', 'patient', 'with', 'stage 2', 'मधुमेह'...</td>\n",
       "      <td>['O', 'O', 'O', 'B-CONDITION', 'I-CONDITION', ...</td>\n",
       "    </tr>\n",
       "  </tbody>\n",
       "</table>\n",
       "<p>99 rows × 3 columns</p>\n",
       "</div>"
      ],
      "text/plain": [
       "                                                 text  \\\n",
       "0   Patient ko तेज बुखार (high fever) aur सीने में...   \n",
       "1   Patient ko तेज़ बुखार tha, aur usse सीने में द...   \n",
       "2   Patient ke blood reports mein high cholesterol...   \n",
       "3   Patient के ख़ून में sugar level बहुत ज़्यादा थ...   \n",
       "4   Patient ke saath continuous chest pain hai, au...   \n",
       "..                                                ...   \n",
       "94  Patient को तेज़ बुखार और सिर दर्द के साथ अस्पत...   \n",
       "95  एक 45 वर्षीय रोगी को तेज़ सिर दर्द और बुखार के...   \n",
       "96  रोगी को खून बहुत तेज़ बह रहा था, इसलिए उसे तत्...   \n",
       "97  The patient with हृदय रोग was prescribed 25mg ...   \n",
       "98  The patient with stage 2 मधुमेह was prescribed...   \n",
       "\n",
       "                                               tokens  \\\n",
       "0   ['Patient', 'ko', 'तेज', 'बुखार', '(high', 'fe...   \n",
       "1   ['Patient', 'ko', 'तेज़', 'बुखार', 'tha', 'aur...   \n",
       "2   ['Patient', 'ke', 'blood', 'reports', 'mein', ...   \n",
       "3   ['Patient', 'के', 'ख़ून', 'में', 'sugar', 'lev...   \n",
       "4   ['Patient', 'ke', 'saath', 'continuous', 'ches...   \n",
       "..                                                ...   \n",
       "94  ['Patient', 'को', 'तेज़', 'बुखार', 'और', 'सिर'...   \n",
       "95  ['एक', '45', 'वर्षीय', 'रोगी', 'को', 'तेज़', '...   \n",
       "96  ['रोगी', 'को', 'खून', 'बहुत', 'तेज़', 'बह', 'र...   \n",
       "97  ['The', 'patient', 'with', 'हृदय', 'रोग', 'was...   \n",
       "98  ['The', 'patient', 'with', 'stage 2', 'मधुमेह'...   \n",
       "\n",
       "                                             ner_tags  \n",
       "0   ['O', 'O', 'B-SYMPTOM', 'I-SYMPTOM', 'I-SYMPTO...  \n",
       "1   ['O', 'O', 'B-SYMPTOM', 'I-SYMPTOM', 'O', 'O',...  \n",
       "2   ['O', 'O', 'B-TEST', 'I-TEST', 'O', 'B-CONDITI...  \n",
       "3   ['O', 'O', 'O', 'O', 'B-SYMPTOM', 'I-SYMPTOM',...  \n",
       "4   ['O', 'O', 'O', 'B-SYMPTOM', 'I-SYMPTOM', 'I-S...  \n",
       "..                                                ...  \n",
       "94  ['O', 'O', 'B-SYMPTOM', 'I-SYMPTOM', 'O', 'B-S...  \n",
       "95  ['O', 'O', 'O', 'O', 'O', 'B-SYMPTOM', 'I-SYMP...  \n",
       "96  ['O', 'O', 'B-SYMPTOM', 'O', 'I-SYMPTOM', 'I-S...  \n",
       "97  ['O', 'O', 'O', 'B-CONDITION', 'I-CONDITION', ...  \n",
       "98  ['O', 'O', 'O', 'B-CONDITION', 'I-CONDITION', ...  \n",
       "\n",
       "[99 rows x 3 columns]"
      ]
     },
     "execution_count": 4,
     "metadata": {},
     "output_type": "execute_result"
    }
   ],
   "source": [
    "df"
   ]
  },
  {
   "cell_type": "code",
   "execution_count": 5,
   "metadata": {},
   "outputs": [
    {
     "data": {
      "text/plain": [
       "np.int64(0)"
      ]
     },
     "execution_count": 5,
     "metadata": {},
     "output_type": "execute_result"
    }
   ],
   "source": [
    "df['text'].duplicated().sum()"
   ]
  },
  {
   "cell_type": "code",
   "execution_count": 6,
   "metadata": {},
   "outputs": [
    {
     "data": {
      "text/html": [
       "<div>\n",
       "<style scoped>\n",
       "    .dataframe tbody tr th:only-of-type {\n",
       "        vertical-align: middle;\n",
       "    }\n",
       "\n",
       "    .dataframe tbody tr th {\n",
       "        vertical-align: top;\n",
       "    }\n",
       "\n",
       "    .dataframe thead th {\n",
       "        text-align: right;\n",
       "    }\n",
       "</style>\n",
       "<table border=\"1\" class=\"dataframe\">\n",
       "  <thead>\n",
       "    <tr style=\"text-align: right;\">\n",
       "      <th></th>\n",
       "      <th>text</th>\n",
       "      <th>tokens</th>\n",
       "      <th>ner_tags</th>\n",
       "    </tr>\n",
       "  </thead>\n",
       "  <tbody>\n",
       "    <tr>\n",
       "      <th>0</th>\n",
       "      <td>Patient ko तेज बुखार (high fever) aur सीने में...</td>\n",
       "      <td>['Patient', 'ko', 'तेज', 'बुखार', '(high', 'fe...</td>\n",
       "      <td>['O', 'O', 'B-SYMPTOM', 'I-SYMPTOM', 'I-SYMPTO...</td>\n",
       "    </tr>\n",
       "    <tr>\n",
       "      <th>1</th>\n",
       "      <td>Patient ko तेज़ बुखार tha, aur usse सीने में द...</td>\n",
       "      <td>['Patient', 'ko', 'तेज़', 'बुखार', 'tha', 'aur...</td>\n",
       "      <td>['O', 'O', 'B-SYMPTOM', 'I-SYMPTOM', 'O', 'O',...</td>\n",
       "    </tr>\n",
       "    <tr>\n",
       "      <th>2</th>\n",
       "      <td>Patient ke blood reports mein high cholesterol...</td>\n",
       "      <td>['Patient', 'ke', 'blood', 'reports', 'mein', ...</td>\n",
       "      <td>['O', 'O', 'B-TEST', 'I-TEST', 'O', 'B-CONDITI...</td>\n",
       "    </tr>\n",
       "  </tbody>\n",
       "</table>\n",
       "</div>"
      ],
      "text/plain": [
       "                                                text  \\\n",
       "0  Patient ko तेज बुखार (high fever) aur सीने में...   \n",
       "1  Patient ko तेज़ बुखार tha, aur usse सीने में द...   \n",
       "2  Patient ke blood reports mein high cholesterol...   \n",
       "\n",
       "                                              tokens  \\\n",
       "0  ['Patient', 'ko', 'तेज', 'बुखार', '(high', 'fe...   \n",
       "1  ['Patient', 'ko', 'तेज़', 'बुखार', 'tha', 'aur...   \n",
       "2  ['Patient', 'ke', 'blood', 'reports', 'mein', ...   \n",
       "\n",
       "                                            ner_tags  \n",
       "0  ['O', 'O', 'B-SYMPTOM', 'I-SYMPTOM', 'I-SYMPTO...  \n",
       "1  ['O', 'O', 'B-SYMPTOM', 'I-SYMPTOM', 'O', 'O',...  \n",
       "2  ['O', 'O', 'B-TEST', 'I-TEST', 'O', 'B-CONDITI...  "
      ]
     },
     "execution_count": 6,
     "metadata": {},
     "output_type": "execute_result"
    }
   ],
   "source": [
    "df.head(n=3)"
   ]
  },
  {
   "cell_type": "markdown",
   "metadata": {},
   "source": [
    "### Converting the DataFrame to HuggingFace Dataset"
   ]
  },
  {
   "cell_type": "code",
   "execution_count": 7,
   "metadata": {},
   "outputs": [
    {
     "name": "stdout",
     "output_type": "stream",
     "text": [
      "Unique numeric tags in dataset: [0, 1, 2, 3, 4, 5, 6, 7, 8, 9, 10, 11, 12]\n"
     ]
    }
   ],
   "source": [
    "# Define the mapping\n",
    "label2id = {\n",
    "    \"O\": 0,\n",
    "    \"B-CONDITION\": 1,\n",
    "    \"I-CONDITION\": 2,\n",
    "    \"B-MEDICATION\": 3,\n",
    "    \"I-MEDICATION\": 4,\n",
    "    \"B-PROCEDURE\": 5,\n",
    "    \"I-PROCEDURE\": 6,\n",
    "    \"B-SYMPTOM\":8,\n",
    "    \"I-SYMPTOM\": 7,\n",
    "    \"B-TEST\":9,\n",
    "    \"I-TEST\":10,\n",
    "    \"B-DOSAGE\":11,\n",
    "    \"B-ALLERGEN\":12,\n",
    "    \"I-ALLERGEN\":13\n",
    "}\n",
    "\n",
    "# Convert tags to numbers with error handling\n",
    "def convert_tags_to_ids(tags):\n",
    "    return [label2id.get(tag, 0) for tag in tags]  # Returns 0 for any unknown tag\n",
    "\n",
    "# Apply the conversion\n",
    "df['ner_tags'] = df['ner_tags'].apply(eval)  # If needed\n",
    "df['ner_tags_numeric'] = df['ner_tags'].apply(convert_tags_to_ids)\n",
    "\n",
    "# Replace original column\n",
    "df['ner_tags'] = df['ner_tags_numeric']\n",
    "del df['ner_tags_numeric']\n",
    "\n",
    "# Print unique tags to verify conversion\n",
    "unique_tags = set([tag for tags in df['ner_tags'].tolist() for tag in tags])\n",
    "print(\"Unique numeric tags in dataset:\", sorted(unique_tags))"
   ]
  },
  {
   "cell_type": "markdown",
   "metadata": {},
   "source": [
    "Shuffling is critical for ensuring the quality, robustness, and generalizability of models trained on the dataset. It eliminates biases introduced by the order of data in the original files and prepares the dataset for realistic evaluation and deployment scenarios."
   ]
  },
  {
   "cell_type": "code",
   "execution_count": 8,
   "metadata": {},
   "outputs": [],
   "source": [
    "df = df.sample(frac=1, random_state=42).reset_index(drop=True)"
   ]
  },
  {
   "cell_type": "code",
   "execution_count": 9,
   "metadata": {},
   "outputs": [
    {
     "data": {
      "text/html": [
       "<div>\n",
       "<style scoped>\n",
       "    .dataframe tbody tr th:only-of-type {\n",
       "        vertical-align: middle;\n",
       "    }\n",
       "\n",
       "    .dataframe tbody tr th {\n",
       "        vertical-align: top;\n",
       "    }\n",
       "\n",
       "    .dataframe thead th {\n",
       "        text-align: right;\n",
       "    }\n",
       "</style>\n",
       "<table border=\"1\" class=\"dataframe\">\n",
       "  <thead>\n",
       "    <tr style=\"text-align: right;\">\n",
       "      <th></th>\n",
       "      <th>text</th>\n",
       "      <th>tokens</th>\n",
       "      <th>ner_tags</th>\n",
       "    </tr>\n",
       "  </thead>\n",
       "  <tbody>\n",
       "    <tr>\n",
       "      <th>0</th>\n",
       "      <td>रोगी को हृदय रोग की जांच के लिए Echo और ECG टे...</td>\n",
       "      <td>['रोगी', 'को', 'हृदय', 'रोग', 'की', 'जांच', 'क...</td>\n",
       "      <td>[0, 0, 1, 2, 0, 0, 0, 0, 9, 0, 9, 10, 0, 0, 0,...</td>\n",
       "    </tr>\n",
       "    <tr>\n",
       "      <th>1</th>\n",
       "      <td>Patient को तेज़ बुखार और सिर दर्द के बाद डॉक्ट...</td>\n",
       "      <td>['Patient', 'को', 'तेज़', 'बुखार', 'और', 'सिर'...</td>\n",
       "      <td>[0, 0, 8, 7, 0, 8, 7, 0, 0, 0, 0, 11, 3, 0, 0,...</td>\n",
       "    </tr>\n",
       "    <tr>\n",
       "      <th>2</th>\n",
       "      <td>एक 45 वर्षीय रोगी को तेज़ सिर दर्द और बुखार के...</td>\n",
       "      <td>['एक', '45', 'वर्षीय', 'रोगी', 'को', 'तेज़', '...</td>\n",
       "      <td>[0, 0, 0, 0, 0, 8, 7, 7, 0, 8, 0, 0, 0, 0, 0, ...</td>\n",
       "    </tr>\n",
       "    <tr>\n",
       "      <th>3</th>\n",
       "      <td>Patient ke खून में sugar ka level bahut ज़्याद...</td>\n",
       "      <td>['Patient', 'ke', 'खून', 'में', 'sugar', 'ka',...</td>\n",
       "      <td>[0, 0, 0, 0, 1, 0, 2, 0, 2, 0, 0, 0, 0, 0, 1, ...</td>\n",
       "    </tr>\n",
       "    <tr>\n",
       "      <th>4</th>\n",
       "      <td>The patient with हृदय रोग was prescribed 25mg ...</td>\n",
       "      <td>['The', 'patient', 'with', 'हृदय', 'रोग', 'was...</td>\n",
       "      <td>[0, 0, 0, 1, 2, 0, 0, 11, 3, 11, 0, 0, 0, 5, 6...</td>\n",
       "    </tr>\n",
       "    <tr>\n",
       "      <th>...</th>\n",
       "      <td>...</td>\n",
       "      <td>...</td>\n",
       "      <td>...</td>\n",
       "    </tr>\n",
       "    <tr>\n",
       "      <th>94</th>\n",
       "      <td>रोगी को तेज़ सिर दर्द और बुखार के कारण डॉक्टर ...</td>\n",
       "      <td>['रोगी', 'को', 'तेज़', 'सिर', 'दर्द', 'और', 'ब...</td>\n",
       "      <td>[0, 0, 8, 7, 7, 0, 8, 0, 0, 0, 0, 5, 6, 0, 11,...</td>\n",
       "    </tr>\n",
       "    <tr>\n",
       "      <th>95</th>\n",
       "      <td>एक मरीज़ को तेज़ सिर दर्द और बुखार था, इसलिए ड...</td>\n",
       "      <td>['एक', 'मरीज़', 'को', 'तेज़', 'सिर', 'दर्द', '...</td>\n",
       "      <td>[0, 0, 0, 8, 7, 7, 0, 8, 0, 0, 0, 0, 0, 0, 11,...</td>\n",
       "    </tr>\n",
       "    <tr>\n",
       "      <th>96</th>\n",
       "      <td>Patient ke खांसी aur breathlessness ki wajah s...</td>\n",
       "      <td>['Patient', 'ke', 'खांसी', 'aur', 'breathlessn...</td>\n",
       "      <td>[0, 0, 8, 0, 8, 0, 0, 0, 0, 0, 0, 5, 0, 0, 1, ...</td>\n",
       "    </tr>\n",
       "    <tr>\n",
       "      <th>97</th>\n",
       "      <td>Patient को तेज़ बुखार और सिर दर्द था, इसलिए डॉ...</td>\n",
       "      <td>['Patient', 'को', 'तेज़', 'बुखार', 'और', 'सिर'...</td>\n",
       "      <td>[0, 0, 8, 7, 0, 8, 7, 0, 0, 0, 0, 0, 11, 3, 0,...</td>\n",
       "    </tr>\n",
       "    <tr>\n",
       "      <th>98</th>\n",
       "      <td>रोगी को तेज़ बुखार और सिर दर्द के कारण डॉक्टर ...</td>\n",
       "      <td>['रोगी', 'को', 'तेज़', 'बुखार', 'और', 'सिर', '...</td>\n",
       "      <td>[0, 0, 8, 7, 0, 8, 7, 0, 0, 0, 0, 11, 3, 0, 11...</td>\n",
       "    </tr>\n",
       "  </tbody>\n",
       "</table>\n",
       "<p>99 rows × 3 columns</p>\n",
       "</div>"
      ],
      "text/plain": [
       "                                                 text  \\\n",
       "0   रोगी को हृदय रोग की जांच के लिए Echo और ECG टे...   \n",
       "1   Patient को तेज़ बुखार और सिर दर्द के बाद डॉक्ट...   \n",
       "2   एक 45 वर्षीय रोगी को तेज़ सिर दर्द और बुखार के...   \n",
       "3   Patient ke खून में sugar ka level bahut ज़्याद...   \n",
       "4   The patient with हृदय रोग was prescribed 25mg ...   \n",
       "..                                                ...   \n",
       "94  रोगी को तेज़ सिर दर्द और बुखार के कारण डॉक्टर ...   \n",
       "95  एक मरीज़ को तेज़ सिर दर्द और बुखार था, इसलिए ड...   \n",
       "96  Patient ke खांसी aur breathlessness ki wajah s...   \n",
       "97  Patient को तेज़ बुखार और सिर दर्द था, इसलिए डॉ...   \n",
       "98  रोगी को तेज़ बुखार और सिर दर्द के कारण डॉक्टर ...   \n",
       "\n",
       "                                               tokens  \\\n",
       "0   ['रोगी', 'को', 'हृदय', 'रोग', 'की', 'जांच', 'क...   \n",
       "1   ['Patient', 'को', 'तेज़', 'बुखार', 'और', 'सिर'...   \n",
       "2   ['एक', '45', 'वर्षीय', 'रोगी', 'को', 'तेज़', '...   \n",
       "3   ['Patient', 'ke', 'खून', 'में', 'sugar', 'ka',...   \n",
       "4   ['The', 'patient', 'with', 'हृदय', 'रोग', 'was...   \n",
       "..                                                ...   \n",
       "94  ['रोगी', 'को', 'तेज़', 'सिर', 'दर्द', 'और', 'ब...   \n",
       "95  ['एक', 'मरीज़', 'को', 'तेज़', 'सिर', 'दर्द', '...   \n",
       "96  ['Patient', 'ke', 'खांसी', 'aur', 'breathlessn...   \n",
       "97  ['Patient', 'को', 'तेज़', 'बुखार', 'और', 'सिर'...   \n",
       "98  ['रोगी', 'को', 'तेज़', 'बुखार', 'और', 'सिर', '...   \n",
       "\n",
       "                                             ner_tags  \n",
       "0   [0, 0, 1, 2, 0, 0, 0, 0, 9, 0, 9, 10, 0, 0, 0,...  \n",
       "1   [0, 0, 8, 7, 0, 8, 7, 0, 0, 0, 0, 11, 3, 0, 0,...  \n",
       "2   [0, 0, 0, 0, 0, 8, 7, 7, 0, 8, 0, 0, 0, 0, 0, ...  \n",
       "3   [0, 0, 0, 0, 1, 0, 2, 0, 2, 0, 0, 0, 0, 0, 1, ...  \n",
       "4   [0, 0, 0, 1, 2, 0, 0, 11, 3, 11, 0, 0, 0, 5, 6...  \n",
       "..                                                ...  \n",
       "94  [0, 0, 8, 7, 7, 0, 8, 0, 0, 0, 0, 5, 6, 0, 11,...  \n",
       "95  [0, 0, 0, 8, 7, 7, 0, 8, 0, 0, 0, 0, 0, 0, 11,...  \n",
       "96  [0, 0, 8, 0, 8, 0, 0, 0, 0, 0, 0, 5, 0, 0, 1, ...  \n",
       "97  [0, 0, 8, 7, 0, 8, 7, 0, 0, 0, 0, 0, 11, 3, 0,...  \n",
       "98  [0, 0, 8, 7, 0, 8, 7, 0, 0, 0, 0, 11, 3, 0, 11...  \n",
       "\n",
       "[99 rows x 3 columns]"
      ]
     },
     "execution_count": 9,
     "metadata": {},
     "output_type": "execute_result"
    }
   ],
   "source": [
    "df"
   ]
  },
  {
   "cell_type": "markdown",
   "metadata": {},
   "source": [
    "### Defining Dataset Features and Splits for Dataset"
   ]
  },
  {
   "cell_type": "code",
   "execution_count": 10,
   "metadata": {},
   "outputs": [
    {
     "data": {
      "text/plain": [
       "['O',\n",
       " 'B-CONDITION',\n",
       " 'I-CONDITION',\n",
       " 'B-MEDICATION',\n",
       " 'I-MEDICATION',\n",
       " 'B-PROCEDURE',\n",
       " 'I-PROCEDURE',\n",
       " 'B-SYMPTOM',\n",
       " 'I-SYMPTOM',\n",
       " 'B-TEST',\n",
       " 'I-TEST',\n",
       " 'B-DOSAGE',\n",
       " 'B-ALLERGEN',\n",
       " 'I-ALLERGEN']"
      ]
     },
     "execution_count": 10,
     "metadata": {},
     "output_type": "execute_result"
    }
   ],
   "source": [
    "label_names = list(label2id.keys())\n",
    "label_names"
   ]
  },
  {
   "cell_type": "code",
   "execution_count": null,
   "metadata": {},
   "outputs": [],
   "source": []
  },
  {
   "cell_type": "code",
   "execution_count": 12,
   "metadata": {},
   "outputs": [],
   "source": [
    "from datasets import Dataset, DatasetDict, Features, ClassLabel, Sequence, Value, DatasetInfo\n",
    "\n",
    "\n",
    "# Define features\n",
    "features = Features({\n",
    "    'text': Value('string'),\n",
    "    'tokens': Sequence(Value('string')),\n",
    "    'ner_tags': Sequence(ClassLabel(num_classes=len(label_names), names=label_names))\n",
    "})\n",
    "\n",
    "# Add info about the dataset\n",
    "description = \"\"\"\n",
    "NER Tag Definitions:\n",
    "{\n",
    "    \"B-CONDITION\": \"Medical condition (e.g., Diabetes, हृदय रोग, Asthma, TB)\",\n",
    "    \"I-CONDITION\": \"Continuation of condition\",\n",
    "    \"B-MEDICATION\": \"Medicines (e.g., Insulin, Paracetamol, Dolo-650)\",\n",
    "    \"I-MEDICATION\": \"Continuation of medication\",\n",
    "    \"B-PROCEDURE\": \"Medical procedure (e.g., Angioplasty, X-ray, डायलिसिस)\",\n",
    "    \"I-PROCEDURE\": \"Continuation of procedure\",\n",
    "    \"B-SYMPTOM\": \"Symptoms (e.g., बुखार, Chest pain, Fatigue)\",\n",
    "    \"I-SYMPTOM\": \"Continuation of symptom\",\n",
    "    \"B-TEST\": \"Lab/diagnostic test (e.g., ECG, Lipid Profile, ब्लड टेस्ट)\",\n",
    "    \"I-TEST\": \"Continuation of test\",\n",
    "    \"B-DOSAGE\": \"Dosage/measurement (e.g., 5mg, 200mL, twice daily)\",\n",
    "    \"B-ALLERGEN\": \"Allergens (e.g., Penicillin, धूल, Peanuts)\",\n",
    "    \"I-ALLERGEN\": \"Continuation of allergen\",\n",
    "    \"O\": \"Non-entity tokens\"\n",
    "}\n",
    "\"\"\"\n",
    "\n",
    "# Create a DatasetInfo object\n",
    "my_dataset_info = DatasetInfo(\n",
    "    description=description,\n",
    "    dataset_name=\"Medical Domain NER Datasets\",\n",
    "    features=features,\n",
    ")\n",
    "\n",
    "# Create dataset with features\n",
    "dataset = Dataset.from_dict(\n",
    "    {\n",
    "        'text': df['text'].tolist(),\n",
    "        'tokens': df['tokens'].apply(eval).tolist(),\n",
    "        'ner_tags': df['ner_tags'].tolist()\n",
    "    },\n",
    "    info=my_dataset_info\n",
    ")\n",
    "\n",
    "# Create splits\n",
    "dataset = dataset.train_test_split(test_size=0.2, seed=42)\n",
    "test_valid = dataset['test'].train_test_split(test_size=0.5, seed=42)\n",
    "\n",
    "# Create final dataset dictionary\n",
    "hf_dataset = DatasetDict({\n",
    "    'train': dataset['train'],\n",
    "    'validation': test_valid['train'],\n",
    "    'test': test_valid['test']\n",
    "})\n"
   ]
  },
  {
   "cell_type": "code",
   "execution_count": 14,
   "metadata": {},
   "outputs": [
    {
     "name": "stdout",
     "output_type": "stream",
     "text": [
      "Features: {'text': Value(dtype='string', id=None), 'tokens': Sequence(feature=Value(dtype='string', id=None), length=-1, id=None), 'ner_tags': Sequence(feature=ClassLabel(names=['O', 'B-CONDITION', 'I-CONDITION', 'B-MEDICATION', 'I-MEDICATION', 'B-PROCEDURE', 'I-PROCEDURE', 'B-SYMPTOM', 'I-SYMPTOM', 'B-TEST', 'I-TEST', 'B-DOSAGE', 'B-ALLERGEN', 'I-ALLERGEN'], id=None), length=-1, id=None)}\n"
     ]
    }
   ],
   "source": [
    "# Print to verify\n",
    "print(\"Features:\", hf_dataset['train'].features)"
   ]
  },
  {
   "cell_type": "code",
   "execution_count": 15,
   "metadata": {},
   "outputs": [
    {
     "data": {
      "text/plain": [
       "{'text': 'Patient ko तेज बुखार (high fever) aur सीने में दर्द (chest pain) tha, isliye doctor ne immediate ECG aur blood test kiya, phir unhe 10mg Panadol diya.',\n",
       " 'tokens': ['Patient',\n",
       "  'ko',\n",
       "  'तेज',\n",
       "  'बुखार',\n",
       "  '(high',\n",
       "  'fever)',\n",
       "  'aur',\n",
       "  'सीने',\n",
       "  'में',\n",
       "  'दर्द',\n",
       "  '(chest',\n",
       "  'pain)',\n",
       "  'tha,',\n",
       "  'isliye',\n",
       "  'doctor',\n",
       "  'ne',\n",
       "  'immediate',\n",
       "  'ECG',\n",
       "  'aur',\n",
       "  'blood',\n",
       "  'test',\n",
       "  'kiya,',\n",
       "  'phir',\n",
       "  'unhe',\n",
       "  '10mg',\n",
       "  'Panadol',\n",
       "  'diya',\n",
       "  '.'],\n",
       " 'ner_tags': [0,\n",
       "  0,\n",
       "  8,\n",
       "  7,\n",
       "  7,\n",
       "  7,\n",
       "  0,\n",
       "  8,\n",
       "  7,\n",
       "  7,\n",
       "  7,\n",
       "  7,\n",
       "  0,\n",
       "  0,\n",
       "  0,\n",
       "  0,\n",
       "  0,\n",
       "  9,\n",
       "  0,\n",
       "  9,\n",
       "  10,\n",
       "  0,\n",
       "  0,\n",
       "  0,\n",
       "  11,\n",
       "  3,\n",
       "  0,\n",
       "  0]}"
      ]
     },
     "execution_count": 15,
     "metadata": {},
     "output_type": "execute_result"
    }
   ],
   "source": [
    "hf_dataset[\"train\"][0]"
   ]
  },
  {
   "cell_type": "code",
   "execution_count": 16,
   "metadata": {},
   "outputs": [
    {
     "data": {
      "text/plain": [
       "Sequence(feature=ClassLabel(names=['O', 'B-CONDITION', 'I-CONDITION', 'B-MEDICATION', 'I-MEDICATION', 'B-PROCEDURE', 'I-PROCEDURE', 'B-SYMPTOM', 'I-SYMPTOM', 'B-TEST', 'I-TEST', 'B-DOSAGE', 'B-ALLERGEN', 'I-ALLERGEN'], id=None), length=-1, id=None)"
      ]
     },
     "execution_count": 16,
     "metadata": {},
     "output_type": "execute_result"
    }
   ],
   "source": [
    "hf_dataset[\"train\"].features[\"ner_tags\"]"
   ]
  },
  {
   "cell_type": "code",
   "execution_count": 17,
   "metadata": {},
   "outputs": [
    {
     "name": "stdout",
     "output_type": "stream",
     "text": [
      "\n",
      "NER Tag Definitions:\n",
      "{\n",
      "    \"B-CONDITION\": \"Medical condition (e.g., Diabetes, हृदय रोग, Asthma, TB)\",\n",
      "    \"I-CONDITION\": \"Continuation of condition\",\n",
      "    \"B-MEDICATION\": \"Medicines (e.g., Insulin, Paracetamol, Dolo-650)\",\n",
      "    \"I-MEDICATION\": \"Continuation of medication\",\n",
      "    \"B-PROCEDURE\": \"Medical procedure (e.g., Angioplasty, X-ray, डायलिसिस)\",\n",
      "    \"I-PROCEDURE\": \"Continuation of procedure\",\n",
      "    \"B-SYMPTOM\": \"Symptoms (e.g., बुखार, Chest pain, Fatigue)\",\n",
      "    \"I-SYMPTOM\": \"Continuation of symptom\",\n",
      "    \"B-TEST\": \"Lab/diagnostic test (e.g., ECG, Lipid Profile, ब्लड टेस्ट)\",\n",
      "    \"I-TEST\": \"Continuation of test\",\n",
      "    \"B-DOSAGE\": \"Dosage/measurement (e.g., 5mg, 200mL, twice daily)\",\n",
      "    \"B-ALLERGEN\": \"Allergens (e.g., Penicillin, धूल, Peanuts)\",\n",
      "    \"I-ALLERGEN\": \"Continuation of allergen\",\n",
      "    \"O\": \"Non-entity tokens\"\n",
      "}\n",
      "\n"
     ]
    }
   ],
   "source": [
    "print(hf_dataset['train'].description)"
   ]
  },
  {
   "cell_type": "code",
   "execution_count": 18,
   "metadata": {},
   "outputs": [
    {
     "data": {
      "text/plain": [
       "DatasetDict({\n",
       "    train: Dataset({\n",
       "        features: ['text', 'tokens', 'ner_tags'],\n",
       "        num_rows: 79\n",
       "    })\n",
       "    validation: Dataset({\n",
       "        features: ['text', 'tokens', 'ner_tags'],\n",
       "        num_rows: 10\n",
       "    })\n",
       "    test: Dataset({\n",
       "        features: ['text', 'tokens', 'ner_tags'],\n",
       "        num_rows: 10\n",
       "    })\n",
       "})"
      ]
     },
     "execution_count": 18,
     "metadata": {},
     "output_type": "execute_result"
    }
   ],
   "source": [
    "hf_dataset"
   ]
  },
  {
   "cell_type": "markdown",
   "metadata": {},
   "source": [
    "### Saving the Dataset"
   ]
  },
  {
   "cell_type": "code",
   "execution_count": 22,
   "metadata": {},
   "outputs": [
    {
     "name": "stderr",
     "output_type": "stream",
     "text": [
      "Saving the dataset (1/1 shards): 100%|██████████| 79/79 [00:00<00:00, 4759.14 examples/s]\n",
      "Saving the dataset (1/1 shards): 100%|██████████| 10/10 [00:00<00:00, 896.74 examples/s] \n",
      "Saving the dataset (1/1 shards): 100%|██████████| 10/10 [00:00<00:00, 875.25 examples/s]\n"
     ]
    }
   ],
   "source": [
    "# Suppose you have a Dataset or DatasetDict called 'hf_dataset'\n",
    "hf_dataset.save_to_disk(\"../Dataset/medical_domain_ner_dataset\")"
   ]
  },
  {
   "cell_type": "code",
   "execution_count": null,
   "metadata": {},
   "outputs": [],
   "source": []
  }
 ],
 "metadata": {
  "kernelspec": {
   "display_name": "env",
   "language": "python",
   "name": "python3"
  },
  "language_info": {
   "codemirror_mode": {
    "name": "ipython",
    "version": 3
   },
   "file_extension": ".py",
   "mimetype": "text/x-python",
   "name": "python",
   "nbconvert_exporter": "python",
   "pygments_lexer": "ipython3",
   "version": "3.11.11"
  }
 },
 "nbformat": 4,
 "nbformat_minor": 2
}
